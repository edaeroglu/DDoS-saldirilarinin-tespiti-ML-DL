{
 "cells": [
  {
   "cell_type": "code",
   "execution_count": 43,
   "id": "f0cf24b3-0806-46dd-bd4b-8601c7beffc6",
   "metadata": {},
   "outputs": [],
   "source": [
    "import pandas as pd\n",
    "import numpy as np\n",
    "import seaborn as sns\n",
    "import matplotlib.pyplot as plt\n",
    "from sklearn.model_selection import train_test_split\n",
    "from sklearn.metrics import accuracy_score, precision_score, recall_score, f1_score, confusion_matrix, roc_curve, auc\n",
    "from tensorflow.keras.models import Sequential\n",
    "from tensorflow.keras.layers import Conv1D, Dropout, MaxPooling1D, Flatten, Dense, GRU\n",
    "from tensorflow.keras.optimizers import SGD\n",
    "import tensorflow as tf"
   ]
  },
  {
   "cell_type": "code",
   "execution_count": 44,
   "id": "32db1807-312f-4d70-9a7a-4825107a9d90",
   "metadata": {},
   "outputs": [
    {
     "data": {
      "text/plain": [
       "Index([' Destination Port', ' Flow Duration', ' Total Fwd Packets',\n",
       "       ' Total Backward Packets', 'Total Length of Fwd Packets',\n",
       "       ' Total Length of Bwd Packets', ' Fwd Packet Length Max',\n",
       "       ' Fwd Packet Length Min', ' Fwd Packet Length Mean',\n",
       "       ' Fwd Packet Length Std', 'Bwd Packet Length Max',\n",
       "       ' Bwd Packet Length Min', ' Bwd Packet Length Mean',\n",
       "       ' Bwd Packet Length Std', 'Flow Bytes/s', ' Flow Packets/s',\n",
       "       ' Flow IAT Mean', ' Flow IAT Std', ' Flow IAT Max', ' Flow IAT Min',\n",
       "       'Fwd IAT Total', ' Fwd IAT Mean', ' Fwd IAT Std', ' Fwd IAT Max',\n",
       "       ' Fwd IAT Min', 'Bwd IAT Total', ' Bwd IAT Mean', ' Bwd IAT Std',\n",
       "       ' Bwd IAT Max', ' Bwd IAT Min', 'Fwd PSH Flags', ' Bwd PSH Flags',\n",
       "       ' Fwd URG Flags', ' Bwd URG Flags', ' Fwd Header Length',\n",
       "       ' Bwd Header Length', 'Fwd Packets/s', ' Bwd Packets/s',\n",
       "       ' Min Packet Length', ' Max Packet Length', ' Packet Length Mean',\n",
       "       ' Packet Length Std', ' Packet Length Variance', 'FIN Flag Count',\n",
       "       ' SYN Flag Count', ' RST Flag Count', ' PSH Flag Count',\n",
       "       ' ACK Flag Count', ' URG Flag Count', ' CWE Flag Count',\n",
       "       ' ECE Flag Count', ' Down/Up Ratio', ' Average Packet Size',\n",
       "       ' Avg Fwd Segment Size', ' Avg Bwd Segment Size',\n",
       "       ' Fwd Header Length.1', 'Fwd Avg Bytes/Bulk', ' Fwd Avg Packets/Bulk',\n",
       "       ' Fwd Avg Bulk Rate', ' Bwd Avg Bytes/Bulk', ' Bwd Avg Packets/Bulk',\n",
       "       'Bwd Avg Bulk Rate', 'Subflow Fwd Packets', ' Subflow Fwd Bytes',\n",
       "       ' Subflow Bwd Packets', ' Subflow Bwd Bytes', 'Init_Win_bytes_forward',\n",
       "       ' Init_Win_bytes_backward', ' act_data_pkt_fwd',\n",
       "       ' min_seg_size_forward', 'Active Mean', ' Active Std', ' Active Max',\n",
       "       ' Active Min', 'Idle Mean', ' Idle Std', ' Idle Max', ' Idle Min',\n",
       "       ' Label'],\n",
       "      dtype='object')"
      ]
     },
     "execution_count": 44,
     "metadata": {},
     "output_type": "execute_result"
    }
   ],
   "source": [
    "dataset = pd.read_csv('ddos.csv')\n",
    "df=pd.DataFrame(dataset) #dataframe dönüştürme\n",
    "df.columns"
   ]
  },
  {
   "cell_type": "code",
   "execution_count": 45,
   "id": "099d18c0-c9db-4cf0-80e0-3cf0d7984004",
   "metadata": {},
   "outputs": [],
   "source": [
    "# çıkarılacak sütunların listesi\n",
    "columns_to_drop = [\n",
    "    ' Fwd Header Length.1', 'Flow Bytes/s', ' Flow Packets/s',\n",
    "    'Fwd Avg Bytes/Bulk', ' Fwd Avg Packets/Bulk', ' Fwd Avg Bulk Rate',\n",
    "    ' Bwd Avg Bytes/Bulk', ' Bwd Avg Packets/Bulk', 'Bwd Avg Bulk Rate',\n",
    "    'Fwd PSH Flags', ' Bwd PSH Flags', ' Fwd URG Flags', ' Bwd URG Flags'\n",
    "]\n",
    "df = df.drop(columns=columns_to_drop) # sütunları çıkarma"
   ]
  },
  {
   "cell_type": "code",
   "execution_count": 46,
   "id": "c77e7cdc-bd2f-496b-a6a4-0619da967c46",
   "metadata": {},
   "outputs": [
    {
     "data": {
      "text/plain": [
       "Index([' Destination Port', ' Flow Duration', ' Total Fwd Packets',\n",
       "       ' Total Backward Packets', 'Total Length of Fwd Packets',\n",
       "       ' Total Length of Bwd Packets', ' Fwd Packet Length Max',\n",
       "       ' Fwd Packet Length Min', ' Fwd Packet Length Mean',\n",
       "       ' Fwd Packet Length Std', 'Bwd Packet Length Max',\n",
       "       ' Bwd Packet Length Min', ' Bwd Packet Length Mean',\n",
       "       ' Bwd Packet Length Std', ' Flow IAT Mean', ' Flow IAT Std',\n",
       "       ' Flow IAT Max', ' Flow IAT Min', 'Fwd IAT Total', ' Fwd IAT Mean',\n",
       "       ' Fwd IAT Std', ' Fwd IAT Max', ' Fwd IAT Min', 'Bwd IAT Total',\n",
       "       ' Bwd IAT Mean', ' Bwd IAT Std', ' Bwd IAT Max', ' Bwd IAT Min',\n",
       "       ' Fwd Header Length', ' Bwd Header Length', 'Fwd Packets/s',\n",
       "       ' Bwd Packets/s', ' Min Packet Length', ' Max Packet Length',\n",
       "       ' Packet Length Mean', ' Packet Length Std', ' Packet Length Variance',\n",
       "       'FIN Flag Count', ' SYN Flag Count', ' RST Flag Count',\n",
       "       ' PSH Flag Count', ' ACK Flag Count', ' URG Flag Count',\n",
       "       ' CWE Flag Count', ' ECE Flag Count', ' Down/Up Ratio',\n",
       "       ' Average Packet Size', ' Avg Fwd Segment Size',\n",
       "       ' Avg Bwd Segment Size', 'Subflow Fwd Packets', ' Subflow Fwd Bytes',\n",
       "       ' Subflow Bwd Packets', ' Subflow Bwd Bytes', 'Init_Win_bytes_forward',\n",
       "       ' Init_Win_bytes_backward', ' act_data_pkt_fwd',\n",
       "       ' min_seg_size_forward', 'Active Mean', ' Active Std', ' Active Max',\n",
       "       ' Active Min', 'Idle Mean', ' Idle Std', ' Idle Max', ' Idle Min',\n",
       "       ' Label'],\n",
       "      dtype='object')"
      ]
     },
     "execution_count": 46,
     "metadata": {},
     "output_type": "execute_result"
    }
   ],
   "source": [
    "df.columns"
   ]
  },
  {
   "cell_type": "code",
   "execution_count": 47,
   "id": "87286d43-40a5-4eb6-985c-f83edb096085",
   "metadata": {},
   "outputs": [],
   "source": [
    "data_f=df.dropna() # eksik verilerin çıkarılması\n",
    "data_f[' Label'] = data_f[' Label'].map({'BENIGN': 0, 'DDoS': 1}) #sınıf etiketleri güncelleme"
   ]
  },
  {
   "cell_type": "code",
   "execution_count": 48,
   "id": "3bf21d0e-c530-46a2-afb1-08a25e5cd174",
   "metadata": {},
   "outputs": [
    {
     "name": "stdout",
     "output_type": "stream",
     "text": [
      "BENIGN sayısı: 97718\n",
      "DDoS sayısı: 128027\n"
     ]
    },
    {
     "data": {
      "image/png": "[encoded data removed]",
      "text/plain": [
       "<Figure size 640x480 with 1 Axes>"
      ]
     },
     "metadata": {},
     "output_type": "display_data"
    }
   ],
   "source": [
    "#sınıfların sayısının bulunması \n",
    "class_counts = data_f[' Label'].value_counts()\n",
    "print(\"BENIGN sayısı:\", class_counts[0])\n",
    "print(\"DDoS sayısı:\", class_counts[1])\n",
    "\n",
    "plt.hist(data_f[' Label'], bins=[0, 0.3,0.7,1], edgecolor='red') \n",
    "plt.xticks([0, 1], labels=['BENIGN=0', 'DDoS=1'])\n",
    "plt.xlabel(\"Sınıflar\")\n",
    "plt.ylabel(\"Sayı\")\n",
    "plt.show()\n"
   ]
  },
  {
   "cell_type": "code",
   "execution_count": 49,
   "id": "925c8e08-13c9-4bcb-906f-648f84b573ce",
   "metadata": {},
   "outputs": [
    {
     "name": "stdout",
     "output_type": "stream",
     "text": [
      " Destination Port              0\n",
      " Flow Duration                 0\n",
      " Total Fwd Packets             0\n",
      " Total Backward Packets        0\n",
      "Total Length of Fwd Packets    0\n",
      "                              ..\n",
      "Idle Mean                      0\n",
      " Idle Std                      0\n",
      " Idle Max                      0\n",
      " Idle Min                      0\n",
      " Label                         0\n",
      "Length: 66, dtype: int64\n"
     ]
    },
    {
     "ename": "TypeError",
     "evalue": "DataFrame.any() takes 1 positional argument but 2 were given",
     "output_type": "error",
     "traceback": [
      "\u001b[1;31m---------------------------------------------------------------------------\u001b[0m",
      "\u001b[1;31mTypeError\u001b[0m                                 Traceback (most recent call last)",
      "Cell \u001b[1;32mIn[49], line 2\u001b[0m\n\u001b[0;32m      1\u001b[0m \u001b[38;5;28mprint\u001b[39m(df\u001b[38;5;241m.\u001b[39misnull()\u001b[38;5;241m.\u001b[39msum())  \u001b[38;5;66;03m#eksik değer kontrolü\u001b[39;00m\n\u001b[1;32m----> 2\u001b[0m \u001b[38;5;28mprint\u001b[39m(df[\u001b[43mdf\u001b[49m\u001b[38;5;241;43m.\u001b[39;49m\u001b[43misin\u001b[49m\u001b[43m(\u001b[49m\u001b[43m[\u001b[49m\u001b[43mnp\u001b[49m\u001b[38;5;241;43m.\u001b[39;49m\u001b[43minf\u001b[49m\u001b[43m,\u001b[49m\u001b[43m \u001b[49m\u001b[38;5;241;43m-\u001b[39;49m\u001b[43mnp\u001b[49m\u001b[38;5;241;43m.\u001b[39;49m\u001b[43minf\u001b[49m\u001b[43m]\u001b[49m\u001b[43m)\u001b[49m\u001b[38;5;241;43m.\u001b[39;49m\u001b[43many\u001b[49m\u001b[43m(\u001b[49m\u001b[38;5;241;43m1\u001b[39;49m\u001b[43m)\u001b[49m])  \u001b[38;5;66;03m#sonsuz değer kontrolü\u001b[39;00m\n",
      "\u001b[1;31mTypeError\u001b[0m: DataFrame.any() takes 1 positional argument but 2 were given"
     ]
    }
   ],
   "source": [
    "print(df.isnull().sum())  #eksik değer kontrolü\n",
    "print(df[df.isin([np.inf, -np.inf]).any(1)])  #sonsuz değer kontrolü"
   ]
  },
  {
   "cell_type": "code",
   "execution_count": 50,
   "id": "475c5a45-0f2e-4688-8e68-8169d519f2a1",
   "metadata": {},
   "outputs": [],
   "source": [
    "# df.fillna(df.mean(numeric_only=True), inplace=True) #ortalama değerle doldurma"
   ]
  },
  {
   "cell_type": "code",
   "execution_count": 51,
   "id": "378fbf17-51f8-4fbe-aa7c-1592b50df117",
   "metadata": {},
   "outputs": [],
   "source": [
    "# print(df.isnull().sum())  "
   ]
  },
  {
   "cell_type": "code",
   "execution_count": 52,
   "id": "345145ec-1b6a-41df-a106-ea3dd56d999c",
   "metadata": {},
   "outputs": [],
   "source": [
    "#özellik ölçeklendirme ve normalize\n",
    "from sklearn.preprocessing import StandardScaler, LabelEncoder\n",
    "\n",
    "scaler = StandardScaler()\n",
    "X_normalized = scaler.fit_transform(df[[' Destination Port',' Flow Duration', ' Total Fwd Packets', ' Total Backward Packets',\n",
    "       ' Total Length of Bwd Packets','Total Length of Fwd Packets', ' Fwd Packet Length Mean',' Bwd Packet Length Mean',\n",
    "       ' Flow IAT Mean', ' Fwd IAT Mean', 'Fwd Packets/s',' Bwd Packets/s',]])\n",
    "\n",
    "label_encoder = LabelEncoder()\n",
    "df['Category_encoded'] = label_encoder.fit_transform(df[' Label'])"
   ]
  },
  {
   "cell_type": "code",
   "execution_count": 53,
   "id": "32b2a387-0264-447a-abc7-31cc55e9d9f6",
   "metadata": {},
   "outputs": [],
   "source": [
    "from tensorflow.keras.layers import Dense\n",
    "from tensorflow.keras.optimizers import Adam\n",
    "\n",
    "n_splits = 5\n",
    "kf = KFold(n_splits=n_splits, shuffle=True, random_state=42) #cross val\n",
    "\n",
    "#değerlendirme metrikleri için boş listeler\n",
    "accuracy_scores = []\n",
    "precision_scores = []\n",
    "recall_scores = []\n",
    "f1_scores = []\n",
    "conf_matrices = []\n"
   ]
  },
  {
   "cell_type": "code",
   "execution_count": 54,
   "id": "57e89747-0789-4656-9244-1f636c8cac19",
   "metadata": {},
   "outputs": [
    {
     "name": "stderr",
     "output_type": "stream",
     "text": [
      "C:\\Users\\erogl\\AppData\\Local\\Programs\\Python\\Python312\\Lib\\site-packages\\keras\\src\\layers\\core\\dense.py:87: UserWarning: Do not pass an `input_shape`/`input_dim` argument to a layer. When using Sequential models, prefer using an `Input(shape)` object as the first layer in the model instead.\n",
      "  super().__init__(activity_regularizer=activity_regularizer, **kwargs)\n"
     ]
    },
    {
     "name": "stdout",
     "output_type": "stream",
     "text": [
      "\u001b[1m1411/1411\u001b[0m \u001b[32m━━━━━━━━━━━━━━━━━━━━\u001b[0m\u001b[37m\u001b[0m \u001b[1m1s\u001b[0m 667us/step\n"
     ]
    },
    {
     "name": "stderr",
     "output_type": "stream",
     "text": [
      "C:\\Users\\erogl\\AppData\\Local\\Programs\\Python\\Python312\\Lib\\site-packages\\keras\\src\\layers\\core\\dense.py:87: UserWarning: Do not pass an `input_shape`/`input_dim` argument to a layer. When using Sequential models, prefer using an `Input(shape)` object as the first layer in the model instead.\n",
      "  super().__init__(activity_regularizer=activity_regularizer, **kwargs)\n"
     ]
    },
    {
     "name": "stdout",
     "output_type": "stream",
     "text": [
      "\u001b[1m1411/1411\u001b[0m \u001b[32m━━━━━━━━━━━━━━━━━━━━\u001b[0m\u001b[37m\u001b[0m \u001b[1m1s\u001b[0m 630us/step\n"
     ]
    },
    {
     "name": "stderr",
     "output_type": "stream",
     "text": [
      "C:\\Users\\erogl\\AppData\\Local\\Programs\\Python\\Python312\\Lib\\site-packages\\keras\\src\\layers\\core\\dense.py:87: UserWarning: Do not pass an `input_shape`/`input_dim` argument to a layer. When using Sequential models, prefer using an `Input(shape)` object as the first layer in the model instead.\n",
      "  super().__init__(activity_regularizer=activity_regularizer, **kwargs)\n"
     ]
    },
    {
     "name": "stdout",
     "output_type": "stream",
     "text": [
      "\u001b[1m1411/1411\u001b[0m \u001b[32m━━━━━━━━━━━━━━━━━━━━\u001b[0m\u001b[37m\u001b[0m \u001b[1m1s\u001b[0m 690us/step\n"
     ]
    },
    {
     "name": "stderr",
     "output_type": "stream",
     "text": [
      "C:\\Users\\erogl\\AppData\\Local\\Programs\\Python\\Python312\\Lib\\site-packages\\keras\\src\\layers\\core\\dense.py:87: UserWarning: Do not pass an `input_shape`/`input_dim` argument to a layer. When using Sequential models, prefer using an `Input(shape)` object as the first layer in the model instead.\n",
      "  super().__init__(activity_regularizer=activity_regularizer, **kwargs)\n"
     ]
    },
    {
     "name": "stdout",
     "output_type": "stream",
     "text": [
      "\u001b[1m1411/1411\u001b[0m \u001b[32m━━━━━━━━━━━━━━━━━━━━\u001b[0m\u001b[37m\u001b[0m \u001b[1m1s\u001b[0m 619us/step\n"
     ]
    },
    {
     "name": "stderr",
     "output_type": "stream",
     "text": [
      "C:\\Users\\erogl\\AppData\\Local\\Programs\\Python\\Python312\\Lib\\site-packages\\keras\\src\\layers\\core\\dense.py:87: UserWarning: Do not pass an `input_shape`/`input_dim` argument to a layer. When using Sequential models, prefer using an `Input(shape)` object as the first layer in the model instead.\n",
      "  super().__init__(activity_regularizer=activity_regularizer, **kwargs)\n"
     ]
    },
    {
     "name": "stdout",
     "output_type": "stream",
     "text": [
      "\u001b[1m1411/1411\u001b[0m \u001b[32m━━━━━━━━━━━━━━━━━━━━\u001b[0m\u001b[37m\u001b[0m \u001b[1m1s\u001b[0m 618us/step\n"
     ]
    }
   ],
   "source": [
    "for train_index, test_index in kf.split(X_normalized):\n",
    "    X_train_fold, X_test_fold = X_normalized[train_index], X_normalized[test_index]\n",
    "    y_train_fold, y_test_fold = df['Category_encoded'][train_index], df['Category_encoded'][test_index]\n",
    "    \n",
    "    #MLP modelinin oluşturulması\n",
    "    model_MLP = Sequential()\n",
    "    model_MLP.add(Dense(128, activation='relu', input_shape=(X_train_fold.shape[1],)))\n",
    "    model_MLP.add(Dropout(0.5))\n",
    "    model_MLP.add(Dense(64, activation='relu'))\n",
    "    model_MLP.add(Dropout(0.5))\n",
    "    model_MLP.add(Dense(1, activation='sigmoid'))\n",
    "\n",
    "    #öğrenme hızı belirleyerek optimizer oluşturma\n",
    "    learning_rate = 0.001\n",
    "    optimizer = Adam(learning_rate=learning_rate)\n",
    "\n",
    "    #derleme\n",
    "    model_MLP.compile(loss='binary_crossentropy', optimizer=optimizer, metrics=['accuracy'])\n",
    "\n",
    "    #modeli erken durdurma ile eğitme\n",
    "    early_stopping = tf.keras.callbacks.EarlyStopping(monitor='val_loss', patience=10, restore_best_weights=True)\n",
    "\n",
    "    model_MLP.fit(X_train_fold, y_train_fold, epochs=5, batch_size=64, validation_split=0.2, callbacks=[early_stopping], verbose=0)\n",
    "    \n",
    "    #test seti üzerinde değerlendirme\n",
    "    y_pred_fold = model_MLP.predict(X_test_fold)\n",
    "    y_pred_binary_fold = (y_pred_fold > 0.5).astype(int)\n",
    "\n",
    "    #metrik hesaplama\n",
    "    accuracy_fold = accuracy_score(y_test_fold, y_pred_binary_fold)\n",
    "    precision_fold = precision_score(y_test_fold, y_pred_binary_fold)\n",
    "    recall_fold = recall_score(y_test_fold, y_pred_binary_fold)\n",
    "    f1_fold = f1_score(y_test_fold, y_pred_binary_fold)\n",
    "    conf_matrix_fold = confusion_matrix(y_test_fold, y_pred_binary_fold)\n",
    "    \n",
    "    #listeye ekleme\n",
    "    accuracy_scores.append(accuracy_fold)\n",
    "    precision_scores.append(precision_fold)\n",
    "    recall_scores.append(recall_fold)\n",
    "    f1_scores.append(f1_fold)\n",
    "    conf_matrices.append(conf_matrix_fold)"
   ]
  },
  {
   "cell_type": "code",
   "execution_count": 55,
   "id": "dec63078-c1fc-4d01-9575-cf4139e6d5a5",
   "metadata": {},
   "outputs": [
    {
     "name": "stdout",
     "output_type": "stream",
     "text": [
      "Average Accuracy (MLP - Cross Validation): 0.9984185696250194\n",
      "Average Precision (MLP - Cross Validation): 0.9984612383157208\n",
      "Average Recall (MLP - Cross Validation): 0.9987500093263441\n",
      "Average F1 Score (MLP - Cross Validation): 0.9986054558951885\n",
      "Confusion Matrix (MLP - Cross Validation):\n",
      "[[19504.2    39.4]\n",
      " [   32.  25573.4]]\n"
     ]
    }
   ],
   "source": [
    "#her fold için ortalama değer hesaplama\n",
    "avg_accuracy = np.mean(accuracy_scores)\n",
    "avg_precision = np.mean(precision_scores)\n",
    "avg_recall = np.mean(recall_scores)\n",
    "avg_f1 = np.mean(f1_scores)\n",
    "avg_conf_matrix = np.mean(conf_matrices, axis=0)\n",
    "\n",
    "print(f'Average Accuracy (MLP - Cross Validation): {avg_accuracy}')\n",
    "print(f'Average Precision (MLP - Cross Validation): {avg_precision}')\n",
    "print(f'Average Recall (MLP - Cross Validation): {avg_recall}')\n",
    "print(f'Average F1 Score (MLP - Cross Validation): {avg_f1}')\n",
    "print('Confusion Matrix (MLP - Cross Validation):')\n",
    "print(avg_conf_matrix)"
   ]
  },
  {
   "cell_type": "code",
   "execution_count": 56,
   "id": "1b1a82d9-cd73-48f8-b731-ca090642a555",
   "metadata": {},
   "outputs": [
    {
     "data": {
      "image/png": "[encoded data removed]",
      "text/plain": [
       "<Figure size 800x600 with 2 Axes>"
      ]
     },
     "metadata": {},
     "output_type": "display_data"
    }
   ],
   "source": [
    "# confusion matrix\n",
    "plt.figure(figsize=(8, 6))\n",
    "sns.heatmap(avg_conf_matrix, annot=True, fmt='.2f', cmap='Blues', xticklabels=['Normal', 'DDoS'], yticklabels=['Normal', 'DDoS'])\n",
    "plt.title('Confusion Matrix (MLP - Cross Validation)')\n",
    "plt.xlabel('Predicted Label')\n",
    "plt.ylabel('True Label')\n",
    "plt.show()\n"
   ]
  },
  {
   "cell_type": "code",
   "execution_count": 57,
   "id": "efea679f-955c-454c-8020-a7cfbdab2717",
   "metadata": {},
   "outputs": [],
   "source": [
    "from tensorflow.keras.layers import SimpleRNN, Dense, Dropout\n",
    "\n",
    "n_splits = 5\n",
    "kf = KFold(n_splits=n_splits, shuffle=True, random_state=42)\n",
    "\n",
    "accuracy_scores_rnn = []\n",
    "precision_scores_rnn = []\n",
    "recall_scores_rnn = []\n",
    "f1_scores_rnn = []\n",
    "conf_matrices_rnn = []"
   ]
  },
  {
   "cell_type": "code",
   "execution_count": 58,
   "id": "8b6c2839-0980-414f-b817-bed7fd08989e",
   "metadata": {},
   "outputs": [
    {
     "name": "stderr",
     "output_type": "stream",
     "text": [
      "C:\\Users\\erogl\\AppData\\Local\\Programs\\Python\\Python312\\Lib\\site-packages\\keras\\src\\layers\\rnn\\rnn.py:204: UserWarning: Do not pass an `input_shape`/`input_dim` argument to a layer. When using Sequential models, prefer using an `Input(shape)` object as the first layer in the model instead.\n",
      "  super().__init__(**kwargs)\n"
     ]
    },
    {
     "name": "stdout",
     "output_type": "stream",
     "text": [
      "\u001b[1m1411/1411\u001b[0m \u001b[32m━━━━━━━━━━━━━━━━━━━━\u001b[0m\u001b[37m\u001b[0m \u001b[1m2s\u001b[0m 1ms/step\n"
     ]
    },
    {
     "name": "stderr",
     "output_type": "stream",
     "text": [
      "C:\\Users\\erogl\\AppData\\Local\\Programs\\Python\\Python312\\Lib\\site-packages\\keras\\src\\layers\\rnn\\rnn.py:204: UserWarning: Do not pass an `input_shape`/`input_dim` argument to a layer. When using Sequential models, prefer using an `Input(shape)` object as the first layer in the model instead.\n",
      "  super().__init__(**kwargs)\n"
     ]
    },
    {
     "name": "stdout",
     "output_type": "stream",
     "text": [
      "\u001b[1m1411/1411\u001b[0m \u001b[32m━━━━━━━━━━━━━━━━━━━━\u001b[0m\u001b[37m\u001b[0m \u001b[1m2s\u001b[0m 1ms/step\n"
     ]
    },
    {
     "name": "stderr",
     "output_type": "stream",
     "text": [
      "C:\\Users\\erogl\\AppData\\Local\\Programs\\Python\\Python312\\Lib\\site-packages\\keras\\src\\layers\\rnn\\rnn.py:204: UserWarning: Do not pass an `input_shape`/`input_dim` argument to a layer. When using Sequential models, prefer using an `Input(shape)` object as the first layer in the model instead.\n",
      "  super().__init__(**kwargs)\n"
     ]
    },
    {
     "name": "stdout",
     "output_type": "stream",
     "text": [
      "\u001b[1m1411/1411\u001b[0m \u001b[32m━━━━━━━━━━━━━━━━━━━━\u001b[0m\u001b[37m\u001b[0m \u001b[1m2s\u001b[0m 1ms/step\n"
     ]
    },
    {
     "name": "stderr",
     "output_type": "stream",
     "text": [
      "C:\\Users\\erogl\\AppData\\Local\\Programs\\Python\\Python312\\Lib\\site-packages\\keras\\src\\layers\\rnn\\rnn.py:204: UserWarning: Do not pass an `input_shape`/`input_dim` argument to a layer. When using Sequential models, prefer using an `Input(shape)` object as the first layer in the model instead.\n",
      "  super().__init__(**kwargs)\n"
     ]
    },
    {
     "name": "stdout",
     "output_type": "stream",
     "text": [
      "\u001b[1m1411/1411\u001b[0m \u001b[32m━━━━━━━━━━━━━━━━━━━━\u001b[0m\u001b[37m\u001b[0m \u001b[1m2s\u001b[0m 1ms/step\n"
     ]
    },
    {
     "name": "stderr",
     "output_type": "stream",
     "text": [
      "C:\\Users\\erogl\\AppData\\Local\\Programs\\Python\\Python312\\Lib\\site-packages\\keras\\src\\layers\\rnn\\rnn.py:204: UserWarning: Do not pass an `input_shape`/`input_dim` argument to a layer. When using Sequential models, prefer using an `Input(shape)` object as the first layer in the model instead.\n",
      "  super().__init__(**kwargs)\n"
     ]
    },
    {
     "name": "stdout",
     "output_type": "stream",
     "text": [
      "\u001b[1m1411/1411\u001b[0m \u001b[32m━━━━━━━━━━━━━━━━━━━━\u001b[0m\u001b[37m\u001b[0m \u001b[1m2s\u001b[0m 1ms/step\n"
     ]
    }
   ],
   "source": [
    "for train_index, test_index in kf.split(X_normalized): #X_normalized veri setine n katına böler\n",
    "    X_train_fold, X_test_fold = X_normalized[train_index], X_normalized[test_index]\n",
    "    y_train_fold, y_test_fold = df['Category_encoded'][train_index], df['Category_encoded'][test_index]\n",
    "    \n",
    "    X_train_rnn_fold = X_train_fold.reshape(X_train_fold.shape[0], X_train_fold.shape[1], 1) #3 boyutlu hale dönüştürülür\n",
    "    X_test_rnn_fold = X_test_fold.reshape(X_test_fold.shape[0], X_test_fold.shape[1], 1)\n",
    "    \n",
    "    model_RNN = Sequential()\n",
    "    model_RNN.add(SimpleRNN(64, activation='relu', input_shape=(X_train_rnn_fold.shape[1], 1)))\n",
    "    model_RNN.add(Dropout(0.2)) #bu katman belirli nöronları rastgele kapatarak aşırı öğrenmeyi önler.\n",
    "    model_RNN.add(Dense(64, activation='relu'))\n",
    "    model_RNN.add(Dropout(0.5))\n",
    "    model_RNN.add(Dense(1, activation='sigmoid')) #çıkış katmanı\n",
    "\n",
    "    learning_rate = 0.001\n",
    "    optimizer = SGD(learning_rate=learning_rate)\n",
    "\n",
    "    model_RNN.compile(loss='binary_crossentropy', optimizer=optimizer, metrics=['accuracy'])\n",
    "\n",
    "    early_stopping = tf.keras.callbacks.EarlyStopping(monitor='val_loss', patience=10, restore_best_weights=True) #val_loss belirli bir süre boyunca iyileşmezse eğitimi durdurur ve en iyi ağırlıkları geri yükler.\n",
    "\n",
    "    model_RNN.fit(X_train_rnn_fold, y_train_fold, epochs=5, batch_size=64, validation_split=0.2, callbacks=[early_stopping], verbose=0)\n",
    "    \n",
    "    y_pred_rnn_fold = model_RNN.predict(X_test_rnn_fold)\n",
    "    y_pred_binary_rnn_fold = (y_pred_rnn_fold > 0.5).astype(int) #eşik değeri kullanılarak ikili değerlere dönüştürülür.\n",
    "\n",
    "    accuracy_fold_rnn = accuracy_score(y_test_fold, y_pred_binary_rnn_fold)\n",
    "    precision_fold_rnn = precision_score(y_test_fold, y_pred_binary_rnn_fold)\n",
    "    recall_fold_rnn = recall_score(y_test_fold, y_pred_binary_rnn_fold)\n",
    "    f1_fold_rnn = f1_score(y_test_fold, y_pred_binary_rnn_fold)\n",
    "    conf_matrix_fold_rnn = confusion_matrix(y_test_fold, y_pred_binary_rnn_fold)\n",
    "    \n",
    "    accuracy_scores_rnn.append(accuracy_fold_rnn)\n",
    "    precision_scores_rnn.append(precision_fold_rnn)\n",
    "    recall_scores_rnn.append(recall_fold_rnn)\n",
    "    f1_scores_rnn.append(f1_fold_rnn)\n",
    "    conf_matrices_rnn.append(conf_matrix_fold_rnn)"
   ]
  },
  {
   "cell_type": "code",
   "execution_count": 59,
   "id": "5a219f6a-446d-4c69-a737-36527a5f105f",
   "metadata": {},
   "outputs": [
    {
     "name": "stdout",
     "output_type": "stream",
     "text": [
      "Average Accuracy (RNN - Cross Validation): 0.983835743870296\n",
      "Average Precision (RNN - Cross Validation): 0.9737324638785386\n",
      "Average Recall (RNN - Cross Validation): 0.9984552005085952\n",
      "Average F1 Score (RNN - Cross Validation): 0.9859344546977376\n",
      "Confusion Matrix (RNN - Cross Validation):\n",
      "[[18853.4   690.2]\n",
      " [   39.6 25565.8]]\n"
     ]
    }
   ],
   "source": [
    "avg_accuracy_rnn = np.mean(accuracy_scores_rnn)\n",
    "avg_precision_rnn = np.mean(precision_scores_rnn)\n",
    "avg_recall_rnn = np.mean(recall_scores_rnn)\n",
    "avg_f1_rnn = np.mean(f1_scores_rnn)\n",
    "avg_conf_matrix_rnn = np.mean(conf_matrices_rnn, axis=0)\n",
    "\n",
    "print(f'Average Accuracy (RNN - Cross Validation): {avg_accuracy_rnn}')\n",
    "print(f'Average Precision (RNN - Cross Validation): {avg_precision_rnn}')\n",
    "print(f'Average Recall (RNN - Cross Validation): {avg_recall_rnn}')\n",
    "print(f'Average F1 Score (RNN - Cross Validation): {avg_f1_rnn}')\n",
    "print('Confusion Matrix (RNN - Cross Validation):')\n",
    "print(avg_conf_matrix_rnn)"
   ]
  },
  {
   "cell_type": "code",
   "execution_count": 60,
   "id": "4b2aa5aa-b5af-4ac5-bd6d-f5a59dbd8a66",
   "metadata": {},
   "outputs": [
    {
     "data": {
      "image/png": "[encoded data removed]",
      "text/plain": [
       "<Figure size 800x600 with 2 Axes>"
      ]
     },
     "metadata": {},
     "output_type": "display_data"
    }
   ],
   "source": [
    "plt.figure(figsize=(8, 6))\n",
    "sns.heatmap(avg_conf_matrix_rnn, annot=True, fmt='.2f', cmap='Blues', xticklabels=['Normal', 'DDoS'], yticklabels=['Normal', 'DDoS'])\n",
    "plt.title('Confusion Matrix (RNN - Cross Validation)')\n",
    "plt.xlabel('Predicted Label')\n",
    "plt.ylabel('True Label')\n",
    "plt.show()"
   ]
  },
  {
   "cell_type": "code",
   "execution_count": 61,
   "id": "d23aad5f-a438-43e5-bbb6-96e2a64e2d71",
   "metadata": {},
   "outputs": [],
   "source": [
    "n_splits = 5\n",
    "kf = KFold(n_splits=n_splits, shuffle=True, random_state=42)\n",
    "\n",
    "accuracy_scores_cnn = []\n",
    "precision_scores_cnn = []\n",
    "recall_scores_cnn = []\n",
    "f1_scores_cnn = []\n",
    "conf_matrices_cnn = []"
   ]
  },
  {
   "cell_type": "code",
   "execution_count": 62,
   "id": "6c7b5d6b-a0d8-43ff-9090-a9e4c3c5108a",
   "metadata": {},
   "outputs": [
    {
     "name": "stderr",
     "output_type": "stream",
     "text": [
      "C:\\Users\\erogl\\AppData\\Local\\Programs\\Python\\Python312\\Lib\\site-packages\\keras\\src\\layers\\convolutional\\base_conv.py:107: UserWarning: Do not pass an `input_shape`/`input_dim` argument to a layer. When using Sequential models, prefer using an `Input(shape)` object as the first layer in the model instead.\n",
      "  super().__init__(activity_regularizer=activity_regularizer, **kwargs)\n"
     ]
    },
    {
     "name": "stdout",
     "output_type": "stream",
     "text": [
      "\u001b[1m1411/1411\u001b[0m \u001b[32m━━━━━━━━━━━━━━━━━━━━\u001b[0m\u001b[37m\u001b[0m \u001b[1m2s\u001b[0m 1ms/step\n"
     ]
    },
    {
     "name": "stderr",
     "output_type": "stream",
     "text": [
      "C:\\Users\\erogl\\AppData\\Local\\Programs\\Python\\Python312\\Lib\\site-packages\\keras\\src\\layers\\convolutional\\base_conv.py:107: UserWarning: Do not pass an `input_shape`/`input_dim` argument to a layer. When using Sequential models, prefer using an `Input(shape)` object as the first layer in the model instead.\n",
      "  super().__init__(activity_regularizer=activity_regularizer, **kwargs)\n"
     ]
    },
    {
     "name": "stdout",
     "output_type": "stream",
     "text": [
      "\u001b[1m1411/1411\u001b[0m \u001b[32m━━━━━━━━━━━━━━━━━━━━\u001b[0m\u001b[37m\u001b[0m \u001b[1m2s\u001b[0m 1ms/step\n"
     ]
    },
    {
     "name": "stderr",
     "output_type": "stream",
     "text": [
      "C:\\Users\\erogl\\AppData\\Local\\Programs\\Python\\Python312\\Lib\\site-packages\\keras\\src\\layers\\convolutional\\base_conv.py:107: UserWarning: Do not pass an `input_shape`/`input_dim` argument to a layer. When using Sequential models, prefer using an `Input(shape)` object as the first layer in the model instead.\n",
      "  super().__init__(activity_regularizer=activity_regularizer, **kwargs)\n"
     ]
    },
    {
     "name": "stdout",
     "output_type": "stream",
     "text": [
      "\u001b[1m1411/1411\u001b[0m \u001b[32m━━━━━━━━━━━━━━━━━━━━\u001b[0m\u001b[37m\u001b[0m \u001b[1m2s\u001b[0m 1ms/step\n"
     ]
    },
    {
     "name": "stderr",
     "output_type": "stream",
     "text": [
      "C:\\Users\\erogl\\AppData\\Local\\Programs\\Python\\Python312\\Lib\\site-packages\\keras\\src\\layers\\convolutional\\base_conv.py:107: UserWarning: Do not pass an `input_shape`/`input_dim` argument to a layer. When using Sequential models, prefer using an `Input(shape)` object as the first layer in the model instead.\n",
      "  super().__init__(activity_regularizer=activity_regularizer, **kwargs)\n"
     ]
    },
    {
     "name": "stdout",
     "output_type": "stream",
     "text": [
      "\u001b[1m1411/1411\u001b[0m \u001b[32m━━━━━━━━━━━━━━━━━━━━\u001b[0m\u001b[37m\u001b[0m \u001b[1m2s\u001b[0m 1ms/step\n"
     ]
    },
    {
     "name": "stderr",
     "output_type": "stream",
     "text": [
      "C:\\Users\\erogl\\AppData\\Local\\Programs\\Python\\Python312\\Lib\\site-packages\\keras\\src\\layers\\convolutional\\base_conv.py:107: UserWarning: Do not pass an `input_shape`/`input_dim` argument to a layer. When using Sequential models, prefer using an `Input(shape)` object as the first layer in the model instead.\n",
      "  super().__init__(activity_regularizer=activity_regularizer, **kwargs)\n"
     ]
    },
    {
     "name": "stdout",
     "output_type": "stream",
     "text": [
      "\u001b[1m1411/1411\u001b[0m \u001b[32m━━━━━━━━━━━━━━━━━━━━\u001b[0m\u001b[37m\u001b[0m \u001b[1m2s\u001b[0m 1ms/step\n"
     ]
    }
   ],
   "source": [
    "for train_index, test_index in kf.split(X_normalized):\n",
    "    X_train_fold, X_test_fold = X_normalized[train_index], X_normalized[test_index]\n",
    "    y_train_fold, y_test_fold = df['Category_encoded'][train_index], df['Category_encoded'][test_index]\n",
    "\n",
    "    X_train_cnn_fold = X_train_fold.reshape(X_train_fold.shape[0], X_train_fold.shape[1], 1)\n",
    "    X_test_cnn_fold = X_test_fold.reshape(X_test_fold.shape[0], X_test_fold.shape[1], 1)\n",
    "\n",
    "    model_CNN = Sequential()\n",
    "    model_CNN.add(Conv1D(64, kernel_size=3, activation='relu', input_shape=(X_train_cnn_fold.shape[1], 1)))\n",
    "    model_CNN.add(Dropout(0.2))\n",
    "    model_CNN.add(Conv1D(128, kernel_size=3, activation='relu'))\n",
    "    model_CNN.add(MaxPooling1D(pool_size=2))\n",
    "    model_CNN.add(Flatten())\n",
    "    model_CNN.add(Dense(64, activation='relu'))\n",
    "    model_CNN.add(Dropout(0.5))\n",
    "    model_CNN.add(Dense(1, activation='sigmoid'))\n",
    "\n",
    "    learning_rate = 0.001\n",
    "    optimizer = SGD(learning_rate=learning_rate)\n",
    "\n",
    "    model_CNN.compile(loss='binary_crossentropy', optimizer=optimizer, metrics=['accuracy'])\n",
    "\n",
    "    early_stopping = tf.keras.callbacks.EarlyStopping(monitor='val_loss', patience=10, restore_best_weights=True)\n",
    "\n",
    "    model_CNN.fit(X_train_cnn_fold, y_train_fold, epochs=5, batch_size=64, validation_split=0.2, callbacks=[early_stopping], verbose=0)\n",
    "    \n",
    "    y_pred_cnn_fold = model_CNN.predict(X_test_cnn_fold)\n",
    "    y_pred_binary_cnn_fold = (y_pred_cnn_fold > 0.5).astype(int)\n",
    "\n",
    "    accuracy_fold_cnn = accuracy_score(y_test_fold, y_pred_binary_cnn_fold)\n",
    "    precision_fold_cnn = precision_score(y_test_fold, y_pred_binary_cnn_fold)\n",
    "    recall_fold_cnn = recall_score(y_test_fold, y_pred_binary_cnn_fold)\n",
    "    f1_fold_cnn = f1_score(y_test_fold, y_pred_binary_cnn_fold)\n",
    "    conf_matrix_fold_cnn = confusion_matrix(y_test_fold, y_pred_binary_cnn_fold)\n",
    "    \n",
    "    accuracy_scores_cnn.append(accuracy_fold_cnn)\n",
    "    precision_scores_cnn.append(precision_fold_cnn)\n",
    "    recall_scores_cnn.append(recall_fold_cnn)\n",
    "    f1_scores_cnn.append(f1_fold_cnn)\n",
    "    conf_matrices_cnn.append(conf_matrix_fold_cnn)"
   ]
  },
  {
   "cell_type": "code",
   "execution_count": 63,
   "id": "1fa542cc-410d-4792-ae4c-5460569b462d",
   "metadata": {},
   "outputs": [
    {
     "name": "stdout",
     "output_type": "stream",
     "text": [
      "Average Accuracy (CNN - Cross Validation): 0.9412124299541518\n",
      "Average Precision (CNN - Cross Validation): 0.948727072099504\n",
      "Average Recall (CNN - Cross Validation): 0.9475489514687719\n",
      "Average F1 Score (CNN - Cross Validation): 0.94813006205557\n",
      "Confusion Matrix (CNN - Cross Validation):\n",
      "[[18232.6  1311. ]\n",
      " [ 1343.2 24262.2]]\n"
     ]
    }
   ],
   "source": [
    "avg_accuracy_cnn = np.mean(accuracy_scores_cnn)\n",
    "avg_precision_cnn = np.mean(precision_scores_cnn)\n",
    "avg_recall_cnn = np.mean(recall_scores_cnn)\n",
    "avg_f1_cnn = np.mean(f1_scores_cnn)\n",
    "avg_conf_matrix_cnn = np.mean(conf_matrices_cnn, axis=0)\n",
    "\n",
    "print(f'Average Accuracy (CNN - Cross Validation): {avg_accuracy_cnn}')\n",
    "print(f'Average Precision (CNN - Cross Validation): {avg_precision_cnn}')\n",
    "print(f'Average Recall (CNN - Cross Validation): {avg_recall_cnn}')\n",
    "print(f'Average F1 Score (CNN - Cross Validation): {avg_f1_cnn}')\n",
    "print('Confusion Matrix (CNN - Cross Validation):')\n",
    "print(avg_conf_matrix_cnn)"
   ]
  },
  {
   "cell_type": "code",
   "execution_count": 64,
   "id": "bb016da2-b3d6-4efe-a04c-b27fa66a6e30",
   "metadata": {},
   "outputs": [
    {
     "data": {
      "image/png": "[encoded data removed]",
      "text/plain": [
       "<Figure size 800x600 with 2 Axes>"
      ]
     },
     "metadata": {},
     "output_type": "display_data"
    }
   ],
   "source": [
    "plt.figure(figsize=(8, 6))\n",
    "sns.heatmap(avg_conf_matrix_cnn, annot=True, fmt='.2f', cmap='Blues', xticklabels=['Normal', 'DDoS'], yticklabels=['Normal', 'DDoS'])\n",
    "plt.title('Confusion Matrix (CNN - Cross Validation)')\n",
    "plt.xlabel('Predicted Label')\n",
    "plt.ylabel('True Label')\n",
    "plt.show()"
   ]
  }
 ],
 "metadata": {
  "kernelspec": {
   "display_name": "Python [conda env:base] *",
   "language": "python",
   "name": "conda-base-py"
  },
  "language_info": {
   "codemirror_mode": {
    "name": "ipython",
    "version": 3
   },
   "file_extension": ".py",
   "mimetype": "text/x-python",
   "name": "python",
   "nbconvert_exporter": "python",
   "pygments_lexer": "ipython3",
   "version": "3.12.7"
  }
 },
 "nbformat": 4,
 "nbformat_minor": 5
}
